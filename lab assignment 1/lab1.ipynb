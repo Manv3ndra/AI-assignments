{
 "cells": [
  {
   "cell_type": "markdown",
   "metadata": {},
   "source": [
    "##### Q1"
   ]
  },
  {
   "cell_type": "code",
   "execution_count": null,
   "metadata": {},
   "outputs": [],
   "source": [
    "import math\n",
    "\n",
    "x = int(input('Enter the value of x : '))\n",
    "n = int(input('Enter the value of n : '))\n",
    "sum = 0\n",
    "for i in range(n+1):\n",
    "    sum = sum + pow(x,i)/math.factorial(i)\n",
    "print(sum)"
   ]
  },
  {
   "cell_type": "markdown",
   "metadata": {},
   "source": [
    "##### Q2"
   ]
  },
  {
   "cell_type": "code",
   "execution_count": null,
   "metadata": {},
   "outputs": [],
   "source": [
    "import random\n",
    "\n",
    "def isPrime(n):\n",
    "    if n>1:\n",
    "        for i in range(2,int(n/2)+1):\n",
    "            if(n%i==0):\n",
    "                return False\n",
    "    return True\n",
    "\n",
    "lst = list()\n",
    "while len(lst) < 100:\n",
    "    lst.append(random.randint(100 , 900))\n",
    "oddNo = 0\n",
    "evenNo = 0\n",
    "primeNo = 0\n",
    "odd = list()\n",
    "even = list()\n",
    "prime = list()\n",
    "for i in lst:\n",
    "    if i%2==0:\n",
    "        even.append(i)\n",
    "        evenNo = evenNo + 1\n",
    "    else:\n",
    "        odd.append(i)\n",
    "        oddNo = oddNo + 1\n",
    "    if isPrime(i):\n",
    "        prime.append(i)\n",
    "        primeNo = primeNo + 1\n",
    "print(oddNo)\n",
    "print(odd)\n",
    "print(evenNo)\n",
    "print(even)\n",
    "print(primeNo)\n",
    "print(prime)\n"
   ]
  },
  {
   "cell_type": "markdown",
   "metadata": {},
   "source": [
    "##### Q3"
   ]
  },
  {
   "cell_type": "code",
   "execution_count": null,
   "metadata": {},
   "outputs": [],
   "source": [
    "def isPrime(n):\n",
    "    if n>1:\n",
    "        for i in range(2,int(n/2)+1):\n",
    "            if(n%i==0):\n",
    "                return False\n",
    "    return True\n",
    "\n",
    "n1 = int(input('Enter 1st number : '))\n",
    "n2 = int(input('Enter 2nd number : '))\n",
    "for num in range(n1,n2+1):\n",
    "    if isPrime(num):\n",
    "        print(num)"
   ]
  },
  {
   "cell_type": "markdown",
   "metadata": {},
   "source": [
    "##### Q4"
   ]
  },
  {
   "cell_type": "code",
   "execution_count": null,
   "metadata": {},
   "outputs": [],
   "source": [
    "lst1 = [1,2,3,4,5,6,7,8,9,10]\n",
    "lst2 = [2,4,6,8,10]\n",
    "for i in lst1:\n",
    "    if i in lst2:\n",
    "        print(i)"
   ]
  },
  {
   "cell_type": "markdown",
   "metadata": {},
   "source": [
    "##### Q5"
   ]
  },
  {
   "cell_type": "code",
   "execution_count": null,
   "metadata": {},
   "outputs": [],
   "source": [
    "year1 = int(input('Enter 1st year: '))\n",
    "year2 = int(input('Enter 2nd year: '))\n",
    "for year in range(year1 , year2+1):\n",
    "    if year%4==0:\n",
    "        print(year, end=' ')"
   ]
  },
  {
   "cell_type": "markdown",
   "metadata": {},
   "source": [
    "##### Q6"
   ]
  },
  {
   "cell_type": "code",
   "execution_count": null,
   "metadata": {},
   "outputs": [],
   "source": [
    "basic = float(input('Enter basic salary : '))\n",
    "if basic<=10000:\n",
    "    hra = 0.2*basic\n",
    "    da = 0.8*basic\n",
    "elif basic<=20000:\n",
    "    hra = 0.25*basic\n",
    "    da = 0.9*basic\n",
    "else:\n",
    "    hra = 0.3*basic\n",
    "    da = 0.95*basic\n",
    "gross = da + hra + basic\n",
    "print('Gross salary =',gross)"
   ]
  },
  {
   "cell_type": "markdown",
   "metadata": {},
   "source": [
    "##### Q7"
   ]
  },
  {
   "cell_type": "code",
   "execution_count": 42,
   "metadata": {},
   "outputs": [
    {
     "name": "stdout",
     "output_type": "stream",
     "text": [
      "Invalid password\n"
     ]
    }
   ],
   "source": [
    "import re\n",
    "\n",
    "p = input('Enter password: ')\n",
    "if(re.search('[a-z]',p) and re.search('[A-Z]',p) and re.search('[0-9]',p) and re.search('[$@#]',p) and len(p)>=6 and len(p)<=16):\n",
    "    print('Valid password')\n",
    "else:\n",
    "    print('Invalid password')"
   ]
  },
  {
   "cell_type": "markdown",
   "metadata": {},
   "source": [
    "##### Q8"
   ]
  },
  {
   "cell_type": "code",
   "execution_count": null,
   "metadata": {},
   "outputs": [],
   "source": [
    "lst = [10,20,30,40,50,60,70,80]\n",
    "# i)\n",
    "lst.append(200)\n",
    "lst.append(300)\n",
    "print('i)',lst)\n",
    "# ii)\n",
    "lst.remove(10)\n",
    "lst.remove(30)\n",
    "print('ii)',lst)\n",
    "# iii)\n",
    "lst.sort()\n",
    "print('iii)',lst)\n",
    "# iv)\n",
    "lst.sort(reverse= True)\n",
    "print('iv)',lst)"
   ]
  },
  {
   "cell_type": "markdown",
   "metadata": {},
   "source": [
    "##### Q9"
   ]
  },
  {
   "cell_type": "code",
   "execution_count": null,
   "metadata": {},
   "outputs": [],
   "source": [
    "dct = {1 : 'One' , 2 : 'Two' , 3 : 'Three' , 4 : 'Four' , 5 : 'Five'}\n",
    "print(dct)\n",
    "# i)\n",
    "dct[6] = 'Six'\n",
    "print('i)',dct)\n",
    "# ii)\n",
    "dct.pop(2)\n",
    "print('ii)',dct)\n",
    "# iii)\n",
    "if dct.get(6,-1)!=-1:\n",
    "    print('iii) Exists')\n",
    "else:\n",
    "    print('iii) Doesnt exist')\n",
    "# iv)\n",
    "print('iv)',len(dct.items()))\n",
    "# v)\n",
    "tot = ''\n",
    "for k,v in dct.items():\n",
    "    tot = tot + v\n",
    "print('v)',tot)"
   ]
  },
  {
   "cell_type": "markdown",
   "metadata": {},
   "source": [
    "##### Q10"
   ]
  },
  {
   "cell_type": "code",
   "execution_count": 43,
   "metadata": {},
   "outputs": [
    {
     "name": "stdout",
     "output_type": "stream",
     "text": [
      "Interest = 21.67 Amount = 121.67\n"
     ]
    }
   ],
   "source": [
    "def compound_interest(p , r ,t):\n",
    "    ci = p * pow(1+(r/100) , t) - p\n",
    "    amt = ci + p\n",
    "    ci = round(ci ,2)\n",
    "    amt = round(amt ,2)\n",
    "    print('Interest =',ci,'Amount =',amt)\n",
    "\n",
    "principal = input('Enter the principal amount: ')\n",
    "rate = input('Enter the rate of interest: ')\n",
    "time = input('Enter the time: ')\n",
    "compound_interest(float(principal) , float(rate) , int(time))"
   ]
  }
 ],
 "metadata": {
  "interpreter": {
   "hash": "dcd9da8e4cbb3f1fd62aa2cd36dba1cba2f0df2d90b9628e786535f638d69789"
  },
  "kernelspec": {
   "display_name": "Python 3.10.2 64-bit",
   "language": "python",
   "name": "python3"
  },
  "language_info": {
   "codemirror_mode": {
    "name": "ipython",
    "version": 3
   },
   "file_extension": ".py",
   "mimetype": "text/x-python",
   "name": "python",
   "nbconvert_exporter": "python",
   "pygments_lexer": "ipython3",
   "version": "3.10.2"
  },
  "orig_nbformat": 4
 },
 "nbformat": 4,
 "nbformat_minor": 2
}
